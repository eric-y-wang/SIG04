{
 "cells": [
  {
   "cell_type": "code",
   "execution_count": 3,
   "id": "b8c8d900-5fa6-47e5-b784-3fcb125363db",
   "metadata": {},
   "outputs": [],
   "source": [
    "import numpy as np\n",
    "import scanpy as sc\n",
    "import anndata as ad\n",
    "import pandas as pd\n",
    "import seaborn as sns\n",
    "import matplotlib as mpl\n",
    "import plotnine as pln"
   ]
  },
  {
   "cell_type": "markdown",
   "id": "49b875dc-f46f-42b6-bb8e-f02c3678c283",
   "metadata": {},
   "source": [
    "# Import Data"
   ]
  },
  {
   "cell_type": "code",
   "execution_count": 30,
   "id": "5e6e81b4-833e-4277-a111-390336b0d735",
   "metadata": {},
   "outputs": [],
   "source": [
    "# load data if you don't want to run the whole thing\n",
    "adata = ad.read_h5ad(filename=\"/data/rudensky/EYW/SIG04_240816/python_outs/SIG04_merge_singlets_ZscoreNorm_scanpy.h5ad\")"
   ]
  },
  {
   "cell_type": "code",
   "execution_count": 34,
   "id": "695cf064-5ab5-4462-8ff8-b548a4282e98",
   "metadata": {},
   "outputs": [],
   "source": [
    "adata = adata[adata.obs.gem_group == \"lane2\"]"
   ]
  },
  {
   "cell_type": "code",
   "execution_count": 7,
   "id": "00a6a5fd-b0a5-47a7-8ff3-7e4ba86e84fb",
   "metadata": {},
   "outputs": [],
   "source": [
    "adata.obs[\"p139_expression\"] = sc.get.obs_df(adata,\"p139-T7oBC5p-MS2\")"
   ]
  },
  {
   "cell_type": "code",
   "execution_count": 37,
   "id": "b1ea18c2-6440-408d-93f4-692b690aba04",
   "metadata": {},
   "outputs": [],
   "source": [
    "temp = sc.get.aggregate(adata,\"oBC_feature_call\",\"mean\")"
   ]
  },
  {
   "cell_type": "code",
   "execution_count": 8,
   "id": "5ba3f004-2500-4b39-b81a-875dd478014c",
   "metadata": {},
   "outputs": [],
   "source": [
    "#sc.pp.regress_out(adata,keys=\"p139_expression\")"
   ]
  },
  {
   "cell_type": "code",
   "execution_count": 9,
   "id": "9c112445-c7c8-462f-a713-76334f71a259",
   "metadata": {},
   "outputs": [],
   "source": [
    "# import functions from perturbseq codebase\n",
    "import sys\n",
    "sys.path.insert(0, '/data/rudensky/EYW/git_projects/SIG04_240816/')\n",
    "from perturbseq import *"
   ]
  },
  {
   "cell_type": "code",
   "execution_count": 35,
   "id": "3cd5f4ed-c9ca-4513-8243-f3c51862be92",
   "metadata": {},
   "outputs": [
    {
     "name": "stdout",
     "output_type": "stream",
     "text": [
      "3642 control cells\n"
     ]
    },
    {
     "name": "stderr",
     "output_type": "stream",
     "text": [
      "/data/rudensky/EYW/git_projects/SIG04_240816/perturbseq/differential_expression.py:141: FutureWarning: The default of observed=False is deprecated and will be changed to True in a future version of pandas. Pass observed=False to retain current behavior or observed=True to adopt the future default and silence this warning.\n",
      "[Parallel(n_jobs=24)]: Using backend LokyBackend with 24 concurrent workers.\n",
      "[Parallel(n_jobs=24)]: Done   2 tasks      | elapsed:   46.3s\n",
      "[Parallel(n_jobs=24)]: Done  13 tasks      | elapsed:   47.9s\n",
      "[Parallel(n_jobs=24)]: Done  24 tasks      | elapsed:   50.0s\n",
      "[Parallel(n_jobs=24)]: Done  45 out of  83 | elapsed:  1.3min remaining:  1.1min\n",
      "[Parallel(n_jobs=24)]: Done  54 out of  83 | elapsed:  1.4min remaining:   46.3s\n",
      "[Parallel(n_jobs=24)]: Done  63 out of  83 | elapsed:  1.5min remaining:   28.7s\n",
      "[Parallel(n_jobs=24)]: Done  72 out of  83 | elapsed:  1.7min remaining:   15.2s\n",
      "[Parallel(n_jobs=24)]: Done  81 out of  83 | elapsed:  1.8min remaining:    2.7s\n",
      "[Parallel(n_jobs=24)]: Done  83 out of  83 | elapsed:  1.9min finished\n"
     ]
    }
   ],
   "source": [
    "# only include genes expressed in > 5% of cells\n",
    "testGenes = adata.var[adata.var['n_cells'] > 2722].index.tolist()\n",
    "\n",
    "KSS, pval, pval_adj = ks_de(adata, key='oBC_feature_call',\n",
    "      genes=testGenes,\n",
    "      control_cells='oBC_feature_call == \"p129\"',\n",
    "      normalized=True,\n",
    "      multi_method='fdr_bh',\n",
    "      n_jobs=24)"
   ]
  },
  {
   "cell_type": "code",
   "execution_count": 27,
   "id": "a41e278e-2df4-491a-931a-29593e9b51df",
   "metadata": {},
   "outputs": [],
   "source": [
    "KSS.index = testGenes\n",
    "pval.index = testGenes\n",
    "pval_adj.index = testGenes"
   ]
  },
  {
   "cell_type": "code",
   "execution_count": 28,
   "id": "b3a77ded-c500-4eae-9e16-78d5f051eb88",
   "metadata": {},
   "outputs": [
    {
     "name": "stdout",
     "output_type": "stream",
     "text": [
      "Column: ADIPOQ, Count below threshold: 21\n",
      "Column: BMP4, Count below threshold: 33\n",
      "Column: BMP7, Count below threshold: 6\n",
      "Column: BMP10, Count below threshold: 7\n",
      "Column: CCL2, Count below threshold: 5289\n",
      "Column: CCL4, Count below threshold: 2\n",
      "Column: CCL5, Count below threshold: 1195\n",
      "Column: CCL7, Count below threshold: 27\n",
      "Column: CCL8, Count below threshold: 17\n",
      "Column: CCL12, Count below threshold: 13\n",
      "Column: CCL19, Count below threshold: 1980\n",
      "Column: CCL21A, Count below threshold: 3055\n",
      "Column: CCL25, Count below threshold: 626\n",
      "Column: CXCL9, Count below threshold: 6\n",
      "Column: CXCL10, Count below threshold: 10\n",
      "Column: CXCL11, Count below threshold: 121\n",
      "Column: CXCL12, Count below threshold: 2\n",
      "Column: CXCL13, Count below threshold: 1\n",
      "Column: CXCL16, Count below threshold: 18\n",
      "Column: GDF2, Count below threshold: 160\n",
      "Column: GDF7, Count below threshold: 2\n",
      "Column: GDF11, Count below threshold: 3911\n",
      "Column: GDF15, Count below threshold: 1\n",
      "Column: IFNA, Count below threshold: 1233\n",
      "Column: IFNA-pool, Count below threshold: 798\n",
      "Column: IFNB1, Count below threshold: 4450\n",
      "Column: IFNE, Count below threshold: 232\n",
      "Column: IFNG, Count below threshold: 221\n",
      "Column: IFNG-pool, Count below threshold: 1919\n",
      "Column: IFNK, Count below threshold: 2919\n",
      "Column: IL1A, Count below threshold: 66\n",
      "Column: IL1F5, Count below threshold: 2\n",
      "Column: IL1F6, Count below threshold: 894\n",
      "Column: IL1F9, Count below threshold: 2\n",
      "Column: IL2, Count below threshold: 8743\n",
      "Column: IL4, Count below threshold: 91\n",
      "Column: IL4-pool, Count below threshold: 466\n",
      "Column: IL6, Count below threshold: 2475\n",
      "Column: IL6-pool, Count below threshold: 9208\n",
      "Column: IL7, Count below threshold: 53\n",
      "Column: IL9, Count below threshold: 12\n",
      "Column: IL12, Count below threshold: 3301\n",
      "Column: IL12-pool, Count below threshold: 453\n",
      "Column: IL13, Count below threshold: 1571\n",
      "Column: IL15, Count below threshold: 25\n",
      "Column: IL16, Count below threshold: 1\n",
      "Column: IL17A, Count below threshold: 87\n",
      "Column: IL17B, Count below threshold: 1296\n",
      "Column: IL17C, Count below threshold: 1\n",
      "Column: IL17F, Count below threshold: 94\n",
      "Column: IL21, Count below threshold: 240\n",
      "Column: IL25, Count below threshold: 4945\n",
      "Column: IL27, Count below threshold: 7584\n",
      "Column: IL33, Count below threshold: 47\n",
      "Column: IL35, Count below threshold: 1\n",
      "Column: INHBA, Count below threshold: 1\n",
      "Column: LIF, Count below threshold: 2\n",
      "Column: MIF, Count below threshold: 1296\n",
      "Column: MSTN, Count below threshold: 6\n",
      "Column: OSM, Count below threshold: 8255\n",
      "Column: TGFB1, Count below threshold: 8\n",
      "Column: TGFB2, Count below threshold: 2\n",
      "Column: TGFB3, Count below threshold: 4\n",
      "Column: TNF, Count below threshold: 5592\n",
      "Column: TNFSF15, Count below threshold: 21\n",
      "Column: TSLP, Count below threshold: 3841\n",
      "Column: WNT1, Count below threshold: 2895\n",
      "Column: WNT3A, Count below threshold: 1\n",
      "Column: WNT5A, Count below threshold: 5\n",
      "Column: WNT7A, Count below threshold: 2\n"
     ]
    }
   ],
   "source": [
    "# Assuming pval_adj is a DataFrame\n",
    "below_threshold = (pval_adj < 0.05).sum(axis=0)\n",
    "\n",
    "# Filter column names where the count is greater than 0\n",
    "columns_below_threshold = below_threshold[below_threshold > 0].index\n",
    "\n",
    "# Print the column names and their associated counts\n",
    "for col in columns_below_threshold:\n",
    "    print(f\"Column: {col}, Count below threshold: {below_threshold[col]}\")"
   ]
  },
  {
   "cell_type": "code",
   "execution_count": 77,
   "id": "09c060a0-62fa-46c7-b03a-831f36df011e",
   "metadata": {},
   "outputs": [
    {
     "name": "stdout",
     "output_type": "stream",
     "text": [
      "Row names for column 'IL4' with p-values below 0.05:\n",
      "Stat4\n",
      "Hspd1\n",
      "Ctla4\n",
      "Rassf5\n",
      "Niban1\n",
      "Gata3\n",
      "Rxra\n",
      "Cytip\n",
      "Nat10\n",
      "Nop56\n",
      "Prnp\n",
      "Id1\n",
      "Pdrg1\n",
      "Dynlrb1\n",
      "Ncoa3\n",
      "Il2\n",
      "1110032F04Rik\n",
      "Crabp2\n",
      "Txnip\n",
      "Fam241a\n",
      "Lef1\n",
      "B4galt1\n",
      "Tmem245\n",
      "Eif2b3\n",
      "Plk3\n",
      "Ak2\n",
      "Wasf2\n",
      "Capzb\n",
      "Sdf4\n",
      "Tnfrsf18\n",
      "Tes\n",
      "Fam3c\n",
      "Gprin3\n",
      "Tmsb10\n",
      "Lrig1\n",
      "Ccnd2\n",
      "Irag2\n",
      "Etfb\n",
      "Abhd17c\n",
      "Rhog\n",
      "Lsp1\n",
      "Atp11a\n",
      "Dusp4\n",
      "Jund\n",
      "Rab8b\n",
      "Plscr1\n",
      "Cish\n",
      "Glb1\n",
      "Ccr4\n",
      "Marcks\n",
      "Ddt\n",
      "Sptbn1\n",
      "Lcp2\n",
      "Psme2b\n",
      "Shmt1\n",
      "Grap\n",
      "Trp53\n",
      "Eno3\n",
      "Ccr7\n",
      "Stat5a\n",
      "Pitpnc1\n",
      "Prkca\n",
      "Actn1\n",
      "Klf6\n",
      "Aopep\n",
      "Psme2\n",
      "Rgcc\n",
      "Mtdh\n",
      "Pdgfb\n",
      "Tfap4\n",
      "B630019A10Rik\n",
      "Btla\n",
      "Cd200\n",
      "Cd96\n",
      "Ifngr2\n",
      "Tagap\n",
      "Capn15\n",
      "Stk19\n",
      "Clic1\n",
      "Zfp318\n",
      "Egr1\n",
      "Malt1\n",
      "Ms4a4b\n",
      "Ms4a6b\n",
      "Cd274\n",
      "Ints6l\n",
      "Arhgef6\n",
      "Itm2a\n",
      "Prps1\n",
      "Tmsb4x\n",
      "p139-T7oBC5p-MS2\n"
     ]
    }
   ],
   "source": [
    "# Specify the column you're interested in\n",
    "column_name = 'IL4'\n",
    "\n",
    "# Check if the column exists in the DataFrame\n",
    "if column_name in pval_adj.columns:\n",
    "    # Get the boolean Series where p-values are below 0.05\n",
    "    below_threshold = pval_adj[column_name] < 0.05\n",
    "    \n",
    "    # Get the row names (indices) where the condition is True\n",
    "    rows_below_threshold = pval_adj.index[below_threshold]\n",
    "    \n",
    "    # Print the row names\n",
    "    print(f\"Row names for column '{column_name}' with p-values below 0.05:\")\n",
    "    for row in rows_below_threshold:\n",
    "        print(row)\n",
    "else:\n",
    "    print(f\"Column '{column_name}' does not exist in the DataFrame.\")"
   ]
  },
  {
   "cell_type": "code",
   "execution_count": null,
   "id": "e908c76b-01c4-472a-8fa9-89358d6fa476",
   "metadata": {},
   "outputs": [],
   "source": []
  }
 ],
 "metadata": {
  "kernelspec": {
   "display_name": "Python [conda env:miniforge3-scanpy_standard]",
   "language": "python",
   "name": "conda-env-miniforge3-scanpy_standard-py"
  },
  "language_info": {
   "codemirror_mode": {
    "name": "ipython",
    "version": 3
   },
   "file_extension": ".py",
   "mimetype": "text/x-python",
   "name": "python",
   "nbconvert_exporter": "python",
   "pygments_lexer": "ipython3",
   "version": "3.12.5"
  }
 },
 "nbformat": 4,
 "nbformat_minor": 5
}
