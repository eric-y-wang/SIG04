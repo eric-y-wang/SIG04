{
 "cells": [
  {
   "cell_type": "code",
   "execution_count": 3,
   "id": "d3d84fa2-c3d1-454b-a77e-52f15cdc259a",
   "metadata": {},
   "outputs": [],
   "source": [
    "import os\n",
    "import numpy as np\n",
    "import pandas as pd\n",
    "import scanpy as sc\n",
    "from pyscenic.plotting import plot_binarization\n",
    "from pyscenic.export import add_scenic_metadata\n",
    "import matplotlib as mpl\n",
    "import matplotlib.pyplot as plt\n",
    "import seaborn as sns"
   ]
  },
  {
   "cell_type": "code",
   "execution_count": 4,
   "id": "1d6dfe95-26d1-4c3f-bc91-f85f1d532942",
   "metadata": {},
   "outputs": [],
   "source": [
    "# set a working directory\n",
    "wdir = '/data/rudensky/EYW/'\n",
    "os.chdir( wdir )"
   ]
  },
  {
   "cell_type": "markdown",
   "id": "b86cd35b-0a5e-4bfe-9c8f-11cc6b139fb9",
   "metadata": {},
   "source": [
    "# Import data"
   ]
  },
  {
   "cell_type": "code",
   "execution_count": 5,
   "id": "44fe31d6-8c9d-4279-b494-1bb5f4602caf",
   "metadata": {},
   "outputs": [],
   "source": [
    "adata = sc.read_h5ad('/data/rudensky/EYW/SIG04_240816/python_outs/SIG04_merge_singlets_ZscoreNorm_scanpy_clustered.h5ad')"
   ]
  },
  {
   "cell_type": "markdown",
   "id": "334b6af0-a8f0-40c3-a8aa-8fe1f3b16f4c",
   "metadata": {},
   "source": [
    "# Extract Data"
   ]
  },
  {
   "cell_type": "code",
   "execution_count": 13,
   "id": "94c6333a-69e6-4cc1-b269-13caeefd6369",
   "metadata": {},
   "outputs": [],
   "source": [
    "# Expression matrix\n",
    "exprMat = pd.DataFrame(adata.X.toarray(), index=adata.obs.index, columns=adata.var.index)\n",
    "# AUC matrix (assuming it's stored in a layer or another slot of the AnnData object)\n",
    "auc_mtx = pd.read_csv(\"/data/rudensky/EYW/SIG04_240816/scenic/auc_mtx.csv\").set_index(\"Cell\")"
   ]
  },
  {
   "cell_type": "code",
   "execution_count": 7,
   "id": "843466b7-85b4-4e56-9248-e56affb783b3",
   "metadata": {},
   "outputs": [],
   "source": [
    "cellAnnot = pd.concat(\n",
    "    [\n",
    "        pd.DataFrame(adata.obs['oBC_feature_call'], index=adata.obs.index),\n",
    "        pd.DataFrame(adata.obs['cluster_anno_res_1.00'], index=adata.obs.index),\n",
    "        pd.DataFrame(adata.obs['pct_counts_mt'], index=adata.obs.index),\n",
    "        pd.DataFrame(adata.obs['n_genes'], index=adata.obs.index),\n",
    "        pd.DataFrame(adata.obs['n_counts'], index=adata.obs.index),\n",
    "    ],\n",
    "    axis=1\n",
    ")\n",
    "cellAnnot.columns = [\n",
    "    'oBC_feature_call',\n",
    "    'cluster_anno_res_1.00',\n",
    "    'pct_counts_mt',\n",
    "    'n_genes',\n",
    "    'n_counts'\n",
    "]"
   ]
  },
  {
   "cell_type": "code",
   "execution_count": null,
   "id": "5bb91f6a-a932-4485-ac34-80283861291a",
   "metadata": {},
   "outputs": [],
   "source": []
  },
  {
   "cell_type": "code",
   "execution_count": 16,
   "id": "28ffbb42-bb5c-4903-80b1-363cd1a96816",
   "metadata": {},
   "outputs": [],
   "source": [
    "from pyscenic.rss import regulon_specificity_scores\n",
    "from pyscenic.plotting import plot_rss\n",
    "import matplotlib.pyplot as plt\n",
    "import seaborn as sns\n",
    "from pyscenic.binarization import binarize"
   ]
  },
  {
   "cell_type": "code",
   "execution_count": 17,
   "id": "d39a1c96-963e-40a4-8491-ee7c331bbd00",
   "metadata": {},
   "outputs": [
    {
     "ename": "AttributeError",
     "evalue": "module 'numpy' has no attribute 'float'.\n`np.float` was a deprecated alias for the builtin `float`. To avoid this error in existing code, use `float` by itself. Doing this will not modify any behavior and is safe. If you specifically wanted the numpy scalar type, use `np.float64` here.\nThe aliases was originally deprecated in NumPy 1.20; for more details and guidance see the original release note at:\n    https://numpy.org/devdocs/release/1.20.0-notes.html#deprecations",
     "output_type": "error",
     "traceback": [
      "\u001b[0;31m---------------------------------------------------------------------------\u001b[0m",
      "\u001b[0;31mAttributeError\u001b[0m                            Traceback (most recent call last)",
      "Cell \u001b[0;32mIn[17], line 1\u001b[0m\n\u001b[0;32m----> 1\u001b[0m rss_cellType \u001b[38;5;241m=\u001b[39m \u001b[43mregulon_specificity_scores\u001b[49m\u001b[43m(\u001b[49m\u001b[43m \u001b[49m\u001b[43mauc_mtx\u001b[49m\u001b[43m,\u001b[49m\u001b[43m \u001b[49m\u001b[43mcellAnnot\u001b[49m\u001b[43m[\u001b[49m\u001b[38;5;124;43m'\u001b[39;49m\u001b[38;5;124;43moBC_feature_call\u001b[39;49m\u001b[38;5;124;43m'\u001b[39;49m\u001b[43m]\u001b[49m\u001b[43m \u001b[49m\u001b[43m)\u001b[49m\n\u001b[1;32m      2\u001b[0m rss_cellType\n",
      "File \u001b[0;32m/lila/home/wange7/miniforge3/envs/scanpy_scenic/lib/python3.12/site-packages/pyscenic/rss.py:21\u001b[0m, in \u001b[0;36mregulon_specificity_scores\u001b[0;34m(auc_mtx, cell_type_series)\u001b[0m\n\u001b[1;32m     19\u001b[0m regulons \u001b[38;5;241m=\u001b[39m \u001b[38;5;28mlist\u001b[39m(auc_mtx\u001b[38;5;241m.\u001b[39mcolumns)\n\u001b[1;32m     20\u001b[0m n_regulons \u001b[38;5;241m=\u001b[39m \u001b[38;5;28mlen\u001b[39m(regulons)\n\u001b[0;32m---> 21\u001b[0m rss_values \u001b[38;5;241m=\u001b[39m np\u001b[38;5;241m.\u001b[39mempty(shape\u001b[38;5;241m=\u001b[39m(n_types, n_regulons), dtype\u001b[38;5;241m=\u001b[39m\u001b[43mnp\u001b[49m\u001b[38;5;241;43m.\u001b[39;49m\u001b[43mfloat\u001b[49m)\n\u001b[1;32m     23\u001b[0m \u001b[38;5;28;01mdef\u001b[39;00m \u001b[38;5;21mrss\u001b[39m(aucs, labels):\n\u001b[1;32m     24\u001b[0m     \u001b[38;5;66;03m# jensenshannon function provides distance which is the sqrt of the JS divergence.\u001b[39;00m\n\u001b[1;32m     25\u001b[0m     \u001b[38;5;28;01mreturn\u001b[39;00m \u001b[38;5;241m1.0\u001b[39m \u001b[38;5;241m-\u001b[39m jensenshannon(aucs \u001b[38;5;241m/\u001b[39m aucs\u001b[38;5;241m.\u001b[39msum(), labels \u001b[38;5;241m/\u001b[39m labels\u001b[38;5;241m.\u001b[39msum())\n",
      "File \u001b[0;32m/lila/home/wange7/miniforge3/envs/scanpy_scenic/lib/python3.12/site-packages/numpy/__init__.py:394\u001b[0m, in \u001b[0;36m__getattr__\u001b[0;34m(attr)\u001b[0m\n\u001b[1;32m    389\u001b[0m     warnings\u001b[38;5;241m.\u001b[39mwarn(\n\u001b[1;32m    390\u001b[0m         \u001b[38;5;124mf\u001b[39m\u001b[38;5;124m\"\u001b[39m\u001b[38;5;124mIn the future `np.\u001b[39m\u001b[38;5;132;01m{\u001b[39;00mattr\u001b[38;5;132;01m}\u001b[39;00m\u001b[38;5;124m` will be defined as the \u001b[39m\u001b[38;5;124m\"\u001b[39m\n\u001b[1;32m    391\u001b[0m         \u001b[38;5;124m\"\u001b[39m\u001b[38;5;124mcorresponding NumPy scalar.\u001b[39m\u001b[38;5;124m\"\u001b[39m, \u001b[38;5;167;01mFutureWarning\u001b[39;00m, stacklevel\u001b[38;5;241m=\u001b[39m\u001b[38;5;241m2\u001b[39m)\n\u001b[1;32m    393\u001b[0m \u001b[38;5;28;01mif\u001b[39;00m attr \u001b[38;5;129;01min\u001b[39;00m __former_attrs__:\n\u001b[0;32m--> 394\u001b[0m     \u001b[38;5;28;01mraise\u001b[39;00m \u001b[38;5;167;01mAttributeError\u001b[39;00m(__former_attrs__[attr])\n\u001b[1;32m    396\u001b[0m \u001b[38;5;28;01mif\u001b[39;00m attr \u001b[38;5;129;01min\u001b[39;00m __expired_attributes__:\n\u001b[1;32m    397\u001b[0m     \u001b[38;5;28;01mraise\u001b[39;00m \u001b[38;5;167;01mAttributeError\u001b[39;00m(\n\u001b[1;32m    398\u001b[0m         \u001b[38;5;124mf\u001b[39m\u001b[38;5;124m\"\u001b[39m\u001b[38;5;124m`np.\u001b[39m\u001b[38;5;132;01m{\u001b[39;00mattr\u001b[38;5;132;01m}\u001b[39;00m\u001b[38;5;124m` was removed in the NumPy 2.0 release. \u001b[39m\u001b[38;5;124m\"\u001b[39m\n\u001b[1;32m    399\u001b[0m         \u001b[38;5;124mf\u001b[39m\u001b[38;5;124m\"\u001b[39m\u001b[38;5;132;01m{\u001b[39;00m__expired_attributes__[attr]\u001b[38;5;132;01m}\u001b[39;00m\u001b[38;5;124m\"\u001b[39m\n\u001b[1;32m    400\u001b[0m     )\n",
      "\u001b[0;31mAttributeError\u001b[0m: module 'numpy' has no attribute 'float'.\n`np.float` was a deprecated alias for the builtin `float`. To avoid this error in existing code, use `float` by itself. Doing this will not modify any behavior and is safe. If you specifically wanted the numpy scalar type, use `np.float64` here.\nThe aliases was originally deprecated in NumPy 1.20; for more details and guidance see the original release note at:\n    https://numpy.org/devdocs/release/1.20.0-notes.html#deprecations"
     ]
    }
   ],
   "source": [
    "rss_cellType = regulon_specificity_scores(auc_mtx, cellAnnot['oBC_feature_call'])\n",
    "rss_cellType"
   ]
  },
  {
   "cell_type": "code",
   "execution_count": null,
   "id": "3f74ac25-f17d-4ddc-8dcb-add9cce72007",
   "metadata": {},
   "outputs": [],
   "source": []
  }
 ],
 "metadata": {
  "kernelspec": {
   "display_name": "Python [conda env:scanpy_scenic]",
   "language": "python",
   "name": "conda-env-scanpy_scenic-py"
  },
  "language_info": {
   "codemirror_mode": {
    "name": "ipython",
    "version": 3
   },
   "file_extension": ".py",
   "mimetype": "text/x-python",
   "name": "python",
   "nbconvert_exporter": "python",
   "pygments_lexer": "ipython3",
   "version": "3.12.7"
  }
 },
 "nbformat": 4,
 "nbformat_minor": 5
}
