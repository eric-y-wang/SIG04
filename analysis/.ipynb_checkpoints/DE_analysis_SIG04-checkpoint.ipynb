{
 "cells": [
  {
   "cell_type": "code",
   "execution_count": 2,
   "id": "b8c8d900-5fa6-47e5-b784-3fcb125363db",
   "metadata": {},
   "outputs": [],
   "source": [
    "import numpy as np\n",
    "import scanpy as sc\n",
    "import anndata as ad\n",
    "import pandas as pd\n",
    "import seaborn as sns\n",
    "import matplotlib as mpl\n",
    "import plotnine as pln"
   ]
  },
  {
   "cell_type": "markdown",
   "id": "49b875dc-f46f-42b6-bb8e-f02c3678c283",
   "metadata": {},
   "source": [
    "# Import Data"
   ]
  },
  {
   "cell_type": "code",
   "execution_count": 3,
   "id": "5e6e81b4-833e-4277-a111-390336b0d735",
   "metadata": {},
   "outputs": [],
   "source": [
    "# load data if you don't want to run the whole thing\n",
    "adata = ad.read_h5ad(filename=\"/data/rudensky/EYW/SIG04_240816/python_outs/SIG04_merge_singlets_ZscoreNorm_scanpy.h5ad\")"
   ]
  },
  {
   "cell_type": "code",
   "execution_count": 86,
   "id": "00a6a5fd-b0a5-47a7-8ff3-7e4ba86e84fb",
   "metadata": {},
   "outputs": [],
   "source": [
    "adata.obs[\"p139_expression\"] = sc.get.obs_df(adata,\"p139-T7oBC5p-MS2\")"
   ]
  },
  {
   "cell_type": "code",
   "execution_count": 89,
   "id": "5ba3f004-2500-4b39-b81a-875dd478014c",
   "metadata": {},
   "outputs": [
    {
     "name": "stderr",
     "output_type": "stream",
     "text": [
      "/lila/home/wange7/miniforge3/envs/scanpy_standard/lib/python3.12/site-packages/statsmodels/genmod/generalized_linear_model.py:1342: PerfectSeparationWarning: Perfect separation or prediction detected, parameter may not be identified\n",
      "/lila/home/wange7/miniforge3/envs/scanpy_standard/lib/python3.12/site-packages/statsmodels/genmod/generalized_linear_model.py:1342: PerfectSeparationWarning: Perfect separation or prediction detected, parameter may not be identified\n",
      "/lila/home/wange7/miniforge3/envs/scanpy_standard/lib/python3.12/site-packages/statsmodels/genmod/generalized_linear_model.py:1342: PerfectSeparationWarning: Perfect separation or prediction detected, parameter may not be identified\n"
     ]
    }
   ],
   "source": [
    "#sc.pp.regress_out(adata,keys=\"p139_expression\")"
   ]
  },
  {
   "cell_type": "code",
   "execution_count": 4,
   "id": "9c112445-c7c8-462f-a713-76334f71a259",
   "metadata": {},
   "outputs": [],
   "source": [
    "# import functions from perturbseq codebase\n",
    "import sys\n",
    "sys.path.insert(0, '/data/rudensky/EYW/git_projects/SIG04_240816/')\n",
    "from perturbseq import *"
   ]
  },
  {
   "cell_type": "code",
   "execution_count": null,
   "id": "1822d7ca-2913-4485-aaf2-d12f6fa431b0",
   "metadata": {},
   "outputs": [],
   "source": []
  },
  {
   "cell_type": "code",
   "execution_count": null,
   "id": "3cd5f4ed-c9ca-4513-8243-f3c51862be92",
   "metadata": {},
   "outputs": [
    {
     "name": "stdout",
     "output_type": "stream",
     "text": [
      "5857 control cells\n"
     ]
    },
    {
     "name": "stderr",
     "output_type": "stream",
     "text": [
      "/data/rudensky/EYW/git_projects/SIG04_240816/perturbseq/differential_expression.py:141: FutureWarning: The default of observed=False is deprecated and will be changed to True in a future version of pandas. Pass observed=False to retain current behavior or observed=True to adopt the future default and silence this warning.\n",
      "[Parallel(n_jobs=24)]: Using backend LokyBackend with 24 concurrent workers.\n"
     ]
    }
   ],
   "source": [
    "# only include genes expressed in > 5% of cells\n",
    "testGenes = adata.var[adata.var['n_cells'] > 2722].index.tolist()\n",
    "\n",
    "KSS, pval, pval_adj = ks_de(adata, key='oBC_feature_call',\n",
    "      genes=testGenes,\n",
    "      control_cells='oBC_feature_call == \"p129\"',\n",
    "      normalized=True,\n",
    "      multi_method='fdr_bh',\n",
    "      n_jobs=24)"
   ]
  },
  {
   "cell_type": "code",
   "execution_count": null,
   "id": "a41e278e-2df4-491a-931a-29593e9b51df",
   "metadata": {},
   "outputs": [],
   "source": [
    "KSS.index = testGenes\n",
    "pval.index = testGenes\n",
    "pval_adj.index = testGenes"
   ]
  },
  {
   "cell_type": "code",
   "execution_count": null,
   "id": "b3a77ded-c500-4eae-9e16-78d5f051eb88",
   "metadata": {},
   "outputs": [],
   "source": [
    "# Assuming pval_adj is a DataFrame\n",
    "below_threshold = (pval_adj < 0.05).sum(axis=0)\n",
    "\n",
    "# Filter column names where the count is greater than 0\n",
    "columns_below_threshold = below_threshold[below_threshold > 0].index\n",
    "\n",
    "# Print the column names and their associated counts\n",
    "for col in columns_below_threshold:\n",
    "    print(f\"Column: {col}, Count below threshold: {below_threshold[col]}\")"
   ]
  },
  {
   "cell_type": "code",
   "execution_count": 13,
   "id": "09c060a0-62fa-46c7-b03a-831f36df011e",
   "metadata": {},
   "outputs": [
    {
     "name": "stdout",
     "output_type": "stream",
     "text": [
      "Row names for column 'IL4' with p-values below 0.05:\n",
      "Stat4\n",
      "Ctla4\n",
      "Il2\n",
      "Lef1\n",
      "Wasf2\n",
      "Tes\n",
      "Lrig1\n",
      "Ccnd2\n",
      "Irag2\n",
      "Lsp1\n",
      "Atp11a\n",
      "Dusp4\n",
      "Jund\n",
      "Rab8b\n",
      "Cish\n",
      "Glb1\n",
      "Ccr4\n",
      "Marcks\n",
      "Ddt\n",
      "Lcp2\n",
      "Psme2b\n",
      "Grap\n",
      "Eno3\n",
      "Ccr7\n",
      "Prkca\n",
      "Actn1\n",
      "Aopep\n",
      "Psme2\n",
      "Btla\n",
      "Cd96\n",
      "Malt1\n",
      "Ms4a4b\n",
      "Arhgef6\n",
      "Itm2a\n",
      "Tmsb4x\n",
      "p139-T7oBC5p-MS2\n"
     ]
    }
   ],
   "source": [
    "# Specify the column you're interested in\n",
    "column_name = 'IL4'\n",
    "\n",
    "# Check if the column exists in the DataFrame\n",
    "if column_name in pval_adj.columns:\n",
    "    # Get the boolean Series where p-values are below 0.05\n",
    "    below_threshold = pval_adj[column_name] < 0.05\n",
    "    \n",
    "    # Get the row names (indices) where the condition is True\n",
    "    rows_below_threshold = pval_adj.index[below_threshold]\n",
    "    \n",
    "    # Print the row names\n",
    "    print(f\"Row names for column '{column_name}' with p-values below 0.05:\")\n",
    "    for row in rows_below_threshold:\n",
    "        print(row)\n",
    "else:\n",
    "    print(f\"Column '{column_name}' does not exist in the DataFrame.\")"
   ]
  },
  {
   "cell_type": "code",
   "execution_count": null,
   "id": "e908c76b-01c4-472a-8fa9-89358d6fa476",
   "metadata": {},
   "outputs": [],
   "source": []
  }
 ],
 "metadata": {
  "kernelspec": {
   "display_name": "Python [conda env:miniforge3-scanpy_standard]",
   "language": "python",
   "name": "conda-env-miniforge3-scanpy_standard-py"
  },
  "language_info": {
   "codemirror_mode": {
    "name": "ipython",
    "version": 3
   },
   "file_extension": ".py",
   "mimetype": "text/x-python",
   "name": "python",
   "nbconvert_exporter": "python",
   "pygments_lexer": "ipython3",
   "version": "3.12.5"
  }
 },
 "nbformat": 4,
 "nbformat_minor": 5
}
