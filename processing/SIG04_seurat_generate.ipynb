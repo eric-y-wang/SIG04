{
 "cells": [
  {
   "cell_type": "code",
   "execution_count": 1,
   "id": "34951366-f013-45a5-8723-2361ed63e7c8",
   "metadata": {},
   "outputs": [
    {
     "name": "stderr",
     "output_type": "stream",
     "text": [
      "── \u001b[1mAttaching core tidyverse packages\u001b[22m ──────────────────────── tidyverse 2.0.0 ──\n",
      "\u001b[32m✔\u001b[39m \u001b[34mdplyr    \u001b[39m 1.1.4     \u001b[32m✔\u001b[39m \u001b[34mreadr    \u001b[39m 2.1.5\n",
      "\u001b[32m✔\u001b[39m \u001b[34mforcats  \u001b[39m 1.0.0     \u001b[32m✔\u001b[39m \u001b[34mstringr  \u001b[39m 1.5.1\n",
      "\u001b[32m✔\u001b[39m \u001b[34mggplot2  \u001b[39m 3.5.1     \u001b[32m✔\u001b[39m \u001b[34mtibble   \u001b[39m 3.2.1\n",
      "\u001b[32m✔\u001b[39m \u001b[34mlubridate\u001b[39m 1.9.3     \u001b[32m✔\u001b[39m \u001b[34mtidyr    \u001b[39m 1.3.1\n",
      "\u001b[32m✔\u001b[39m \u001b[34mpurrr    \u001b[39m 1.0.2     \n",
      "── \u001b[1mConflicts\u001b[22m ────────────────────────────────────────── tidyverse_conflicts() ──\n",
      "\u001b[31m✖\u001b[39m \u001b[34mdplyr\u001b[39m::\u001b[32mfilter()\u001b[39m masks \u001b[34mstats\u001b[39m::filter()\n",
      "\u001b[31m✖\u001b[39m \u001b[34mdplyr\u001b[39m::\u001b[32mlag()\u001b[39m    masks \u001b[34mstats\u001b[39m::lag()\n",
      "\u001b[36mℹ\u001b[39m Use the conflicted package (\u001b[3m\u001b[34m<http://conflicted.r-lib.org/>\u001b[39m\u001b[23m) to force all conflicts to become errors\n",
      "Loading required package: SeuratObject\n",
      "\n",
      "Loading required package: sp\n",
      "\n",
      "\n",
      "Attaching package: ‘SeuratObject’\n",
      "\n",
      "\n",
      "The following objects are masked from ‘package:base’:\n",
      "\n",
      "    intersect, t\n",
      "\n",
      "\n",
      "\n",
      "Attaching package: ‘hdf5r’\n",
      "\n",
      "\n",
      "The following object is masked from ‘package:purrr’:\n",
      "\n",
      "    flatten_df\n",
      "\n",
      "\n"
     ]
    }
   ],
   "source": [
    "library(tidyverse)\n",
    "library(Seurat)\n",
    "library(ggplot2)\n",
    "library(patchwork)\n",
    "library(hdf5r)"
   ]
  },
  {
   "cell_type": "markdown",
   "id": "2f432225-ef69-4bde-a64c-a0248a557e89",
   "metadata": {},
   "source": [
    "# Import Data"
   ]
  },
  {
   "cell_type": "code",
   "execution_count": 2,
   "id": "7276109a-8926-47ec-9bee-f852c5ba5710",
   "metadata": {},
   "outputs": [
    {
     "name": "stderr",
     "output_type": "stream",
     "text": [
      "Genome matrix has multiple modalities, returning a list of matrices for this genome\n",
      "\n",
      "Genome matrix has multiple modalities, returning a list of matrices for this genome\n",
      "\n"
     ]
    },
    {
     "data": {
      "text/html": [
       "<style>\n",
       ".list-inline {list-style: none; margin:0; padding: 0}\n",
       ".list-inline>li {display: inline-block}\n",
       ".list-inline>li:not(:last-child)::after {content: \"\\00b7\"; padding: 0 .5ex}\n",
       "</style>\n",
       "<ol class=list-inline><li>'Gene Expression'</li><li>'CRISPR Guide Capture'</li></ol>\n"
      ],
      "text/latex": [
       "\\begin{enumerate*}\n",
       "\\item 'Gene Expression'\n",
       "\\item 'CRISPR Guide Capture'\n",
       "\\end{enumerate*}\n"
      ],
      "text/markdown": [
       "1. 'Gene Expression'\n",
       "2. 'CRISPR Guide Capture'\n",
       "\n",
       "\n"
      ],
      "text/plain": [
       "[1] \"Gene Expression\"      \"CRISPR Guide Capture\""
      ]
     },
     "metadata": {},
     "output_type": "display_data"
    },
    {
     "data": {
      "text/html": [
       "<style>\n",
       ".list-inline {list-style: none; margin:0; padding: 0}\n",
       ".list-inline>li {display: inline-block}\n",
       ".list-inline>li:not(:last-child)::after {content: \"\\00b7\"; padding: 0 .5ex}\n",
       "</style>\n",
       "<ol class=list-inline><li>'Gene Expression'</li><li>'CRISPR Guide Capture'</li></ol>\n"
      ],
      "text/latex": [
       "\\begin{enumerate*}\n",
       "\\item 'Gene Expression'\n",
       "\\item 'CRISPR Guide Capture'\n",
       "\\end{enumerate*}\n"
      ],
      "text/markdown": [
       "1. 'Gene Expression'\n",
       "2. 'CRISPR Guide Capture'\n",
       "\n",
       "\n"
      ],
      "text/plain": [
       "[1] \"Gene Expression\"      \"CRISPR Guide Capture\""
      ]
     },
     "metadata": {},
     "output_type": "display_data"
    }
   ],
   "source": [
    "# import raw counts from cellranger\n",
    "dataRaw1 <- Read10X_h5(\"/data/rudensky/EYW/SIG04_240816/SIG04_lane1_merge_GEX_oBC/outs/filtered_feature_bc_matrix.h5\")\n",
    "dataRaw2 <- Read10X_h5(\"/data/rudensky/EYW/SIG04_240816/SIG04_lane2_merge_GEX_oBC/outs/filtered_feature_bc_matrix.h5\")\n",
    "\n",
    "# import post-QC anndata metadata\n",
    "metaLane1 <- read.csv(\"/data/rudensky/EYW/git_projects/SIG04_240816/processing_outs/postQC_meta_lane1.csv\", row.names = \"cell_barcode\")\n",
    "metaLane2 <- read.csv(\"/data/rudensky/EYW/git_projects/SIG04_240816/processing_outs/postQC_meta_lane2.csv\", row.names = \"cell_barcode\")\n",
    "\n",
    "names(dataRaw1)\n",
    "names(dataRaw2)"
   ]
  },
  {
   "cell_type": "markdown",
   "id": "d9a2201a-6fdf-4bd6-957d-b65d2fc472e7",
   "metadata": {},
   "source": [
    "## Filter for joint cells"
   ]
  },
  {
   "cell_type": "code",
   "execution_count": 3,
   "id": "3cfbba22-c566-4a3c-b44a-db79f1e74710",
   "metadata": {},
   "outputs": [],
   "source": [
    "subset_joint <- function(x){\n",
    "  # identify joint cells between BC and GEX dataset\n",
    "  jointCells <- intersect(colnames(x$`Gene Expression`),\n",
    "                          colnames(x$`CRISPR Guide Capture`))\n",
    "  \n",
    "  # subset each dataset to include joint cells\n",
    "  data <- vector(mode = \"list\")\n",
    "  data[[\"GEX\"]] <- x$`Gene Expression`[,jointCells]\n",
    "  data[[\"oBC\"]] <- x$`CRISPR Guide Capture`[,jointCells]\n",
    "  \n",
    "  return(data)\n",
    "}\n",
    "\n",
    "dataRaw1 <- subset_joint(dataRaw1)\n",
    "dataRaw2 <- subset_joint(dataRaw2)"
   ]
  },
  {
   "cell_type": "markdown",
   "id": "5522511c-4993-4d61-bf5b-c3efc961595f",
   "metadata": {},
   "source": [
    "## Filter for low genes\n",
    "Remove genes detected in less than 1/1000 cells"
   ]
  },
  {
   "cell_type": "code",
   "execution_count": 4,
   "id": "62e9194c-84f1-45e6-a9e4-61f79b556f13",
   "metadata": {},
   "outputs": [],
   "source": [
    "dataMergeGEX <- cbind(dataRaw1$GEX,dataRaw2$GEX)\n",
    "\n",
    "# create vector of genes to keep\n",
    "keepGenes <- Matrix::rowSums(dataMergeGEX > 0) >= ncol(dataMergeGEX)*(1/1000)\n",
    "\n",
    "# remove genes from gex matrices\n",
    "dataRaw1$GEX <- dataRaw1$GEX[keepGenes,]\n",
    "dataRaw2$GEX <- dataRaw2$GEX[keepGenes,]\n",
    "\n",
    "rm(dataMergeGEX)"
   ]
  },
  {
   "cell_type": "markdown",
   "id": "98018be3-a5e2-4cfb-b961-078071641708",
   "metadata": {},
   "source": [
    "## Create Seurat Object"
   ]
  },
  {
   "cell_type": "code",
   "execution_count": 5,
   "id": "e08b6fcb-22b1-44c6-85c5-23a0df2b9138",
   "metadata": {},
   "outputs": [],
   "source": [
    "create_seurat <- function(x){\n",
    "  # load GEX counts and add celltag counts into seurat object\n",
    "  data <- CreateSeuratObject(counts = x$GEX, project = \"SIG04\")\n",
    "  data[[\"oBC\"]] <- CreateAssayObject(counts = x$oBC)\n",
    "\n",
    "  return(data)\n",
    "}\n",
    "\n",
    "dataSeurat <- vector(mode = \"list\")\n",
    "dataSeurat[[\"lane1\"]] <- create_seurat(dataRaw1)\n",
    "dataSeurat[[\"lane2\"]] <- create_seurat(dataRaw2)\n",
    "\n",
    "rm(dataRaw1,dataRaw2)"
   ]
  },
  {
   "cell_type": "markdown",
   "id": "42bf4cde-9ff9-4eaf-bf93-76249c6da569",
   "metadata": {},
   "source": [
    "## Filter and merge with Anndata Meta"
   ]
  },
  {
   "cell_type": "code",
   "execution_count": 6,
   "id": "a70a853a-9c29-4a6a-8da2-485ae1305487",
   "metadata": {},
   "outputs": [
    {
     "name": "stdout",
     "output_type": "stream",
     "text": [
      "[1] \"All cells match?: TRUE\"\n",
      "[1] \"All cells match?: TRUE\"\n"
     ]
    }
   ],
   "source": [
    "merge_adMeta <- function(seurat,meta){\n",
    "  seurat <- subset(seurat, cells = rownames(meta))\n",
    "  # make sure cell barcodes match order between metadata and seurat\n",
    "  meta <- meta[match(colnames(seurat),rownames(meta)),]\n",
    "  print(paste0(\"All cells match?: \",\n",
    "               sum(rownames(meta) == colnames(seurat)) == ncol(seurat)))\n",
    "  # replace metadata with anndata meta\n",
    "  seurat@meta.data <- meta\n",
    "  \n",
    "  return(seurat)\n",
    "}\n",
    "\n",
    "dataSeurat[[\"lane1\"]] <- merge_adMeta(dataSeurat$lane1, metaLane1)\n",
    "dataSeurat[[\"lane2\"]] <- merge_adMeta(dataSeurat$lane2, metaLane2)"
   ]
  },
  {
   "cell_type": "markdown",
   "id": "839b1c43-f3c0-496b-a5cc-9a1cb9b9b45d",
   "metadata": {},
   "source": [
    "## Merge into same object"
   ]
  },
  {
   "cell_type": "code",
   "execution_count": 7,
   "id": "515abb03-a988-4255-bc6d-f2eeeebabc95",
   "metadata": {},
   "outputs": [],
   "source": [
    "data <- merge(dataSeurat[[1]],dataSeurat[[2]],\n",
    "              add.cell.ids = c(\"lane1\",\"lane2\"), project = \"SIG04\") %>%\n",
    "  JoinLayers()\n",
    "\n",
    "rm(dataSeurat)"
   ]
  },
  {
   "cell_type": "markdown",
   "id": "588c3526-24df-4652-81e4-37ebd6b97d75",
   "metadata": {},
   "source": [
    "# Scale Data"
   ]
  },
  {
   "cell_type": "code",
   "execution_count": 8,
   "id": "d8f34d44-5797-4df2-a3d1-53e146a38bb1",
   "metadata": {},
   "outputs": [
    {
     "name": "stderr",
     "output_type": "stream",
     "text": [
      "Normalizing layer: counts\n",
      "\n",
      "Centering and scaling data matrix\n",
      "\n",
      "Centering and scaling data matrix\n",
      "\n",
      "Normalizing across features\n",
      "\n",
      "Centering and scaling data matrix\n",
      "\n"
     ]
    }
   ],
   "source": [
    "DefaultAssay(data) <- \"RNA\"\n",
    "data <- NormalizeData(data, normalization.method = \"LogNormalize\") %>%\n",
    "  FindVariableFeatures(selection.method = \"vst\",\n",
    "                       nfeatures = 2000, \n",
    "                       verbose = FALSE) %>%\n",
    "  ScaleData\n",
    "data <- ScaleData(data)\n",
    "\n",
    "DefaultAssay(data) <- \"oBC\"\n",
    "data <- NormalizeData(data, normalization.method = \"CLR\") %>%\n",
    "  ScaleData"
   ]
  },
  {
   "cell_type": "markdown",
   "id": "26d1b451-7178-4add-9ce9-fd39b2c5b648",
   "metadata": {},
   "source": [
    "## Export as RDS"
   ]
  },
  {
   "cell_type": "code",
   "execution_count": 9,
   "id": "0aa689e4-976c-4213-960b-d747c9922be4",
   "metadata": {},
   "outputs": [],
   "source": [
    "saveRDS(data, \"/data/rudensky/EYW/SIG04_240816/seurat_outs/SIG04_postqc_seurat.rds\")"
   ]
  }
 ],
 "metadata": {
  "kernelspec": {
   "display_name": "R [conda env:R-seuratV5]",
   "language": "R",
   "name": "conda-env-R-seuratV5-r"
  },
  "language_info": {
   "codemirror_mode": "r",
   "file_extension": ".r",
   "mimetype": "text/x-r-source",
   "name": "R",
   "pygments_lexer": "r",
   "version": "4.3.3"
  }
 },
 "nbformat": 4,
 "nbformat_minor": 5
}
